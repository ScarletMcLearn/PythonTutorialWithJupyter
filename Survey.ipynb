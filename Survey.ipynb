{
 "cells": [
  {
   "cell_type": "code",
   "execution_count": 63,
   "metadata": {
    "ExecuteTime": {
     "end_time": "2016-10-01T09:38:06.258103",
     "start_time": "2016-10-01T09:38:06.254118"
    },
    "collapsed": true,
    "extensions": {
     "jupyter_dashboards": {
      "version": 1,
      "views": {
       "grid_default": {
        "hidden": true
       },
       "report_default": {
        "hidden": true
       }
      }
     }
    }
   },
   "outputs": [],
   "source": [
    "import numpy as np\n",
    "from ipywidgets import Button, HBox, Box\n",
    "from bqplot import OrdinalScale, LinearScale, Axis, Figure, Bars, Scatter\n",
    "from traitlets import link"
   ]
  },
  {
   "cell_type": "code",
   "execution_count": 64,
   "metadata": {
    "ExecuteTime": {
     "end_time": "2016-10-01T09:38:06.312753",
     "start_time": "2016-10-01T09:38:06.260104"
    },
    "collapsed": false,
    "extensions": {
     "jupyter_dashboards": {
      "version": 1,
      "views": {
       "grid_default": {
        "hidden": true
       },
       "report_default": {
        "hidden": true
       }
      }
     }
    }
   },
   "outputs": [],
   "source": [
    "class survey_fig(object):\n",
    "    '''\n",
    "    Adapted from https://github.com/bollwyvl/exploring-data by Nicholas Bollweg\n",
    "    '''\n",
    "    def __init__(self,names, \n",
    "                 x_label='Category', \n",
    "                 y_label='Count', \n",
    "                 title=None,\n",
    "                 min_width=None,\n",
    "                 min_height=400):\n",
    "        if min_width is None:\n",
    "            min_width = len(names)*100\n",
    "        \n",
    "        if title is None:\n",
    "            title = x_label\n",
    "            \n",
    "        self.plot_args = dict(\n",
    "            min_width=min_width,\n",
    "            min_height=min_height,\n",
    "            animation_duration=200,\n",
    "            padding_x=0\n",
    "            )\n",
    "        self.axis_args = dict(\n",
    "            label_color=\"black\",\n",
    "            color=\"black\",\n",
    "            grid_lines='solid',\n",
    "        )\n",
    "        self.languages = names\n",
    "        sc_x1 = OrdinalScale()\n",
    "        sc_y1 = LinearScale()\n",
    "\n",
    "        bar_x = Axis(label=x_label,\n",
    "                     scale=sc_x1,\n",
    "                     margin=100,\n",
    "                     **self.axis_args)\n",
    "\n",
    "        bar_y = Axis(label=y_label,\n",
    "                     scale=sc_y1,\n",
    "                     orientation='vertical',\n",
    "                     tick_format='0.0f',\n",
    "                     label_offset=\"1rem\",\n",
    "                     **self.axis_args)\n",
    "\n",
    "        self.bar_chart = Bars(x=self.languages,\n",
    "                         y=np.zeros(len(self.languages)),\n",
    "                         scales={'x': sc_x1, 'y': sc_y1})\n",
    "\n",
    "        self.fig = Figure(axes=[bar_x, bar_y],\n",
    "                     marks=[self.bar_chart],\n",
    "                          title=title,\n",
    "                     **self.plot_args)\n",
    "\n",
    "    \n",
    "    def show(self):\n",
    "        elements = [self.fig]\n",
    "        \n",
    "        button_box = [Box(children=tuple(map(self.language_button, enumerate(self.languages))))]\n",
    "        elements += button_box\n",
    "        \n",
    "        box = Box(children=tuple(elements))\n",
    "        return box\n",
    "        \n",
    "    def language_button(self,args):\n",
    "        i, language = args\n",
    "        button = Button(description=language, button_style=\"success\", height=\"6rem\")\n",
    "\n",
    "        @button.on_click\n",
    "        def lang_clicked(x):\n",
    "            self.bar_chart.y[i] += 1\n",
    "            self.bar_chart.send_state()\n",
    "\n",
    "        return button\n"
   ]
  },
  {
   "cell_type": "code",
   "execution_count": 65,
   "metadata": {
    "ExecuteTime": {
     "end_time": "2016-10-01T09:38:06.430893",
     "start_time": "2016-10-01T09:38:06.316738"
    },
    "cell_style": "split",
    "collapsed": false,
    "extensions": {
     "jupyter_dashboards": {
      "version": 1,
      "views": {
       "grid_default": {
        "col": null,
        "height": 21,
        "hidden": false,
        "row": 44,
        "width": null
       },
       "report_default": {
        "hidden": false
       }
      }
     }
    }
   },
   "outputs": [],
   "source": [
    "height = 500\n",
    "\n",
    "survey_fig(\n",
    "    ['Zero', 'Dabbled', 'Enthusiast', 'Pro'],\n",
    "    title='Programming Experience',\n",
    "    min_height=height).show()"
   ]
  },
  {
   "cell_type": "code",
   "execution_count": 66,
   "metadata": {
    "ExecuteTime": {
     "end_time": "2016-10-01T09:38:06.582520",
     "start_time": "2016-10-01T09:38:06.432535"
    },
    "collapsed": true,
    "extensions": {
     "jupyter_dashboards": {
      "version": 1,
      "views": {
       "grid_default": {
        "hidden": true
       },
       "report_default": {
        "hidden": true
       }
      }
     }
    }
   },
   "outputs": [],
   "source": [
    "survey_fig(\n",
    "    ['C/C++','Java','Javascript','Matlab','Scala','Go'],\n",
    "    title='Languages',\n",
    "    min_height=height).show()"
   ]
  },
  {
   "cell_type": "code",
   "execution_count": 67,
   "metadata": {
    "ExecuteTime": {
     "end_time": "2016-10-01T09:38:06.767046",
     "start_time": "2016-10-01T09:38:06.586342"
    },
    "collapsed": true,
    "extensions": {
     "jupyter_dashboards": {
      "version": 1,
      "views": {
       "grid_default": {
        "col": null,
        "height": 22,
        "hidden": false,
        "row": 22,
        "width": null
       },
       "report_default": {
        "hidden": true
       }
      }
     }
    }
   },
   "outputs": [],
   "source": [
    "survey_fig(\n",
    "    ['Web','Backend','Dev Ops','Data Science','Systems'],\n",
    "    title='Python Interest',\n",
    "    min_height=height).show()"
   ]
  },
  {
   "cell_type": "code",
   "execution_count": 68,
   "metadata": {
    "ExecuteTime": {
     "end_time": "2016-10-01T09:38:07.002983",
     "start_time": "2016-10-01T09:38:06.770348"
    },
    "collapsed": false,
    "extensions": {
     "jupyter_dashboards": {
      "version": 1,
      "views": {
       "grid_default": {
        "col": 0,
        "height": 22,
        "hidden": false,
        "row": 0,
        "width": null
       },
       "report_default": {
        "hidden": false
       }
      }
     }
    }
   },
   "outputs": [],
   "source": [
    "\n",
    "survey_fig(\n",
    "    ['Advertising', 'Teaching', 'Design', 'Startup', 'Research', 'Government', 'Engineering', 'Consulting'],\n",
    "    title='Industry',\n",
    "    min_height=height).show()"
   ]
  },
  {
   "cell_type": "code",
   "execution_count": null,
   "metadata": {
    "collapsed": true,
    "extensions": {
     "jupyter_dashboards": {
      "version": 1,
      "views": {
       "grid_default": {
        "hidden": true
       },
       "report_default": {
        "hidden": true
       }
      }
     }
    }
   },
   "outputs": [],
   "source": []
  }
 ],
 "metadata": {
  "anaconda-cloud": {},
  "extensions": {
   "jupyter_dashboards": {
    "activeView": "grid_default",
    "version": 1,
    "views": {
     "grid_default": {
      "cellMargin": 10,
      "defaultCellHeight": 20,
      "maxColumns": 12,
      "name": "grid",
      "type": "grid"
     },
     "report_default": {
      "name": "report",
      "type": "report"
     }
    }
   }
  },
  "hide_input": false,
  "kernelspec": {
   "display_name": "Python [Root]",
   "language": "python",
   "name": "Python [Root]"
  },
  "language_info": {
   "codemirror_mode": {
    "name": "ipython",
    "version": 2
   },
   "file_extension": ".py",
   "mimetype": "text/x-python",
   "name": "python",
   "nbconvert_exporter": "python",
   "pygments_lexer": "ipython2",
   "version": "2.7.9"
  },
  "latex_envs": {
   "bibliofile": "biblio.bib",
   "cite_by": "apalike",
   "current_citInitial": 1,
   "eqLabelWithNumbers": true,
   "eqNumInitial": 0
  },
  "nav_menu": {},
  "toc": {
   "navigate_menu": true,
   "number_sections": true,
   "sideBar": true,
   "threshold": 6,
   "toc_cell": false,
   "toc_section_display": "block",
   "toc_window_display": false
  },
  "widgets": {
   "state": {
    "12f39a977cf14a84a0ada131c8c67b95": {
     "views": [
      {
       "cell_index": 4
      }
     ]
    },
    "7b3b485df1444778b551bb2ad76b1c66": {
     "views": [
      {
       "cell_index": 3
      }
     ]
    },
    "a7c5b77b6269462286c85fea51f54b0c": {
     "views": [
      {
       "cell_index": 2
      }
     ]
    },
    "dc71d58c39154da090bf83a84c3f5ca4": {
     "views": [
      {
       "cell_index": 5
      }
     ]
    }
   },
   "version": "1.2.0"
  }
 },
 "nbformat": 4,
 "nbformat_minor": 0
}
