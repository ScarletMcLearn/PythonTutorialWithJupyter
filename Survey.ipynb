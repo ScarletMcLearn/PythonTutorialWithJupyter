{
 "cells": [
  {
   "cell_type": "code",
   "execution_count": 5,
   "metadata": {
    "collapsed": true
   },
   "outputs": [],
   "source": [
    "import numpy as np\n",
    "from ipywidgets import Button, HBox, Box\n",
    "from bqplot import OrdinalScale, LinearScale, Axis, Figure, Bars, Scatter\n",
    "from traitlets import link"
   ]
  },
  {
   "cell_type": "code",
   "execution_count": 24,
   "metadata": {
    "collapsed": true
   },
   "outputs": [],
   "source": [
    "class survey_fig(object):\n",
    "    '''\n",
    "    Adapted from https://github.com/bollwyvl/exploring-data by Nicholas Bollweg\n",
    "    '''\n",
    "    def __init__(self,names, \n",
    "                 x_label='Category', \n",
    "                 y_label='Count', \n",
    "                 title=None,\n",
    "                 min_width=450,\n",
    "                 min_height=400):\n",
    "        if title is None:\n",
    "            title = x_label\n",
    "            \n",
    "        self.plot_args = dict(\n",
    "            min_width=min_width,\n",
    "            min_height=min_height,\n",
    "            animation_duration=200,\n",
    "            padding_x=0\n",
    "            )\n",
    "        self.axis_args = dict(\n",
    "            label_color=\"black\",\n",
    "            color=\"black\",\n",
    "            grid_lines='solid',\n",
    "        )\n",
    "        self.languages = names\n",
    "        sc_x1 = OrdinalScale()\n",
    "        sc_y1 = LinearScale()\n",
    "\n",
    "        bar_x = Axis(label=x_label,\n",
    "                     scale=sc_x1,\n",
    "                     margin=100,\n",
    "                     **self.axis_args)\n",
    "\n",
    "        bar_y = Axis(label=y_label,\n",
    "                     scale=sc_y1,\n",
    "                     orientation='vertical',\n",
    "                     tick_format='0.0f',\n",
    "                     label_offset=\"1rem\",\n",
    "                     **self.axis_args)\n",
    "\n",
    "        self.bar_chart = Bars(x=self.languages,\n",
    "                         y=np.zeros(len(self.languages)),\n",
    "                         scales={'x': sc_x1, 'y': sc_y1})\n",
    "\n",
    "        self.fig = Figure(axes=[bar_x, bar_y],\n",
    "                     marks=[self.bar_chart],\n",
    "                          title=title,\n",
    "                     **self.plot_args)\n",
    "        \n",
    "    def show_plot(self):\n",
    "        \n",
    "        return self.fig\n",
    "    \n",
    "    def show_buttons(self):\n",
    "        return Box(children=tuple(map(self.language_button, enumerate(self.languages))))\n",
    "        \n",
    "    def language_button(self,args):\n",
    "        i, language = args\n",
    "        button = Button(description=language, button_style=\"success\", height=\"6rem\")\n",
    "\n",
    "        @button.on_click\n",
    "        def lang_clicked(x):\n",
    "            self.bar_chart.y[i] += 1\n",
    "            self.bar_chart.send_state()\n",
    "\n",
    "        return button\n"
   ]
  },
  {
   "cell_type": "code",
   "execution_count": 22,
   "metadata": {
    "cell_style": "split",
    "collapsed": false
   },
   "outputs": [],
   "source": [
    "f1 = figy(['None','Dabbled', 'Enthusiast', 'Pro'],\n",
    "         title='Programming Experience')\n",
    "f1.show_plot()"
   ]
  },
  {
   "cell_type": "code",
   "execution_count": 23,
   "metadata": {
    "cell_style": "split",
    "collapsed": false
   },
   "outputs": [],
   "source": [
    "f1.show_buttons()"
   ]
  },
  {
   "cell_type": "code",
   "execution_count": null,
   "metadata": {
    "collapsed": true
   },
   "outputs": [],
   "source": []
  }
 ],
 "metadata": {
  "anaconda-cloud": {},
  "kernelspec": {
   "display_name": "Python [py27]",
   "language": "python",
   "name": "Python [py27]"
  },
  "language_info": {
   "codemirror_mode": {
    "name": "ipython",
    "version": 2
   },
   "file_extension": ".py",
   "mimetype": "text/x-python",
   "name": "python",
   "nbconvert_exporter": "python",
   "pygments_lexer": "ipython2",
   "version": "2.7.12"
  },
  "latex_envs": {
   "bibliofile": "biblio.bib",
   "cite_by": "apalike",
   "current_citInitial": 1,
   "eqLabelWithNumbers": true,
   "eqNumInitial": 0
  },
  "widgets": {
   "state": {
    "213b166b36b24161b78bcf9ac8480ec4": {
     "views": [
      {
       "cell_index": 3
      }
     ]
    },
    "b0e05eb2de784dca9632be3399f00b08": {
     "views": [
      {
       "cell_index": 2
      }
     ]
    }
   },
   "version": "1.2.0"
  }
 },
 "nbformat": 4,
 "nbformat_minor": 0
}
